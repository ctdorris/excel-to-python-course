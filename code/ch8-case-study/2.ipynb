{
 "cells": [
  {
   "cell_type": "code",
   "execution_count": 1,
   "metadata": {},
   "outputs": [],
   "source": [
    "import pandas as pd\n",
    "from pathlib import Path\n",
    "from datetime import datetime"
   ]
  },
  {
   "cell_type": "code",
   "execution_count": 2,
   "metadata": {},
   "outputs": [],
   "source": [
    "today = datetime.today()\n",
    "in_file = Path.cwd() / \"data\" / \"raw\" / \"customer_master.xlsx\"\n",
    "report_dir = Path.cwd() / \"reports\"\n",
    "report_file = report_dir / \"Commissions_Analysis_{today:%b-%d-%Y}.xlsx\""
   ]
  },
  {
   "cell_type": "code",
   "execution_count": 7,
   "metadata": {},
   "outputs": [],
   "source": [
    "df = pd.read_excel(in_file, dtype = {'zip_code': 'str'})"
   ]
  },
  {
   "cell_type": "code",
   "execution_count": 8,
   "metadata": {},
   "outputs": [
    {
     "data": {
      "text/html": [
       "<div>\n",
       "<style scoped>\n",
       "    .dataframe tbody tr th:only-of-type {\n",
       "        vertical-align: middle;\n",
       "    }\n",
       "\n",
       "    .dataframe tbody tr th {\n",
       "        vertical-align: top;\n",
       "    }\n",
       "\n",
       "    .dataframe thead th {\n",
       "        text-align: right;\n",
       "    }\n",
       "</style>\n",
       "<table border=\"1\" class=\"dataframe\">\n",
       "  <thead>\n",
       "    <tr style=\"text-align: right;\">\n",
       "      <th></th>\n",
       "      <th>company_name</th>\n",
       "      <th>channel</th>\n",
       "      <th>zip_code</th>\n",
       "      <th>city</th>\n",
       "      <th>state</th>\n",
       "      <th>account_num</th>\n",
       "      <th>total_sales</th>\n",
       "    </tr>\n",
       "  </thead>\n",
       "  <tbody>\n",
       "    <tr>\n",
       "      <th>0</th>\n",
       "      <td>Universal Technology Vision</td>\n",
       "      <td>retail</td>\n",
       "      <td>22910</td>\n",
       "      <td>Charlottesville</td>\n",
       "      <td>VA</td>\n",
       "      <td>AH5590</td>\n",
       "      <td>1257912</td>\n",
       "    </tr>\n",
       "    <tr>\n",
       "      <th>1</th>\n",
       "      <td>East Design Hill</td>\n",
       "      <td>retail</td>\n",
       "      <td>66546</td>\n",
       "      <td>Wakarusa</td>\n",
       "      <td>KS</td>\n",
       "      <td>OL0453</td>\n",
       "      <td>1158564</td>\n",
       "    </tr>\n",
       "    <tr>\n",
       "      <th>2</th>\n",
       "      <td>Studio Pacific Galaxy</td>\n",
       "      <td>retail</td>\n",
       "      <td>79698</td>\n",
       "      <td>Abilene</td>\n",
       "      <td>TX</td>\n",
       "      <td>YR6861</td>\n",
       "      <td>1663488</td>\n",
       "    </tr>\n",
       "    <tr>\n",
       "      <th>3</th>\n",
       "      <td>Galaxy Building</td>\n",
       "      <td>retail</td>\n",
       "      <td>85275</td>\n",
       "      <td>Mesa</td>\n",
       "      <td>AZ</td>\n",
       "      <td>AS3124</td>\n",
       "      <td>1193560</td>\n",
       "    </tr>\n",
       "    <tr>\n",
       "      <th>4</th>\n",
       "      <td>Resource Innovation Future</td>\n",
       "      <td>retail</td>\n",
       "      <td>97013</td>\n",
       "      <td>Canby</td>\n",
       "      <td>OR</td>\n",
       "      <td>DK1362</td>\n",
       "      <td>958040</td>\n",
       "    </tr>\n",
       "  </tbody>\n",
       "</table>\n",
       "</div>"
      ],
      "text/plain": [
       "                  company_name channel zip_code             city state  \\\n",
       "0  Universal Technology Vision  retail    22910  Charlottesville    VA   \n",
       "1             East Design Hill  retail    66546         Wakarusa    KS   \n",
       "2        Studio Pacific Galaxy  retail    79698          Abilene    TX   \n",
       "3              Galaxy Building  retail    85275             Mesa    AZ   \n",
       "4   Resource Innovation Future  retail    97013            Canby    OR   \n",
       "\n",
       "  account_num  total_sales  \n",
       "0      AH5590      1257912  \n",
       "1      OL0453      1158564  \n",
       "2      YR6861      1663488  \n",
       "3      AS3124      1193560  \n",
       "4      DK1362       958040  "
      ]
     },
     "execution_count": 8,
     "metadata": {},
     "output_type": "execute_result"
    }
   ],
   "source": [
    "df.head()"
   ]
  },
  {
   "cell_type": "code",
   "execution_count": 9,
   "metadata": {},
   "outputs": [
    {
     "name": "stdout",
     "output_type": "stream",
     "text": [
      "<class 'pandas.core.frame.DataFrame'>\n",
      "RangeIndex: 50 entries, 0 to 49\n",
      "Data columns (total 7 columns):\n",
      " #   Column        Non-Null Count  Dtype \n",
      "---  ------        --------------  ----- \n",
      " 0   company_name  50 non-null     object\n",
      " 1   channel       50 non-null     object\n",
      " 2   zip_code      50 non-null     object\n",
      " 3   city          50 non-null     object\n",
      " 4   state         50 non-null     object\n",
      " 5   account_num   50 non-null     object\n",
      " 6   total_sales   50 non-null     int64 \n",
      "dtypes: int64(1), object(6)\n",
      "memory usage: 2.9+ KB\n"
     ]
    }
   ],
   "source": [
    "df.info()"
   ]
  },
  {
   "cell_type": "code",
   "execution_count": 10,
   "metadata": {},
   "outputs": [
    {
     "data": {
      "text/html": [
       "<div>\n",
       "<style scoped>\n",
       "    .dataframe tbody tr th:only-of-type {\n",
       "        vertical-align: middle;\n",
       "    }\n",
       "\n",
       "    .dataframe tbody tr th {\n",
       "        vertical-align: top;\n",
       "    }\n",
       "\n",
       "    .dataframe thead th {\n",
       "        text-align: right;\n",
       "    }\n",
       "</style>\n",
       "<table border=\"1\" class=\"dataframe\">\n",
       "  <thead>\n",
       "    <tr style=\"text-align: right;\">\n",
       "      <th></th>\n",
       "      <th>company_name</th>\n",
       "      <th>channel</th>\n",
       "      <th>zip_code</th>\n",
       "      <th>city</th>\n",
       "      <th>state</th>\n",
       "      <th>account_num</th>\n",
       "      <th>total_sales</th>\n",
       "    </tr>\n",
       "  </thead>\n",
       "  <tbody>\n",
       "    <tr>\n",
       "      <th>45</th>\n",
       "      <td>Omega Research Data</td>\n",
       "      <td>partner</td>\n",
       "      <td>32209</td>\n",
       "      <td>Jacksonville</td>\n",
       "      <td>FL</td>\n",
       "      <td>KX0489</td>\n",
       "      <td>3185196</td>\n",
       "    </tr>\n",
       "    <tr>\n",
       "      <th>46</th>\n",
       "      <td>Solutions Universal</td>\n",
       "      <td>reseller</td>\n",
       "      <td>66212</td>\n",
       "      <td>Shawnee Mission</td>\n",
       "      <td>KS</td>\n",
       "      <td>SA4443</td>\n",
       "      <td>6796068</td>\n",
       "    </tr>\n",
       "    <tr>\n",
       "      <th>47</th>\n",
       "      <td>Bell Frontier Resource</td>\n",
       "      <td>retail</td>\n",
       "      <td>95172</td>\n",
       "      <td>San Jose</td>\n",
       "      <td>CA</td>\n",
       "      <td>LA6029</td>\n",
       "      <td>1719822</td>\n",
       "    </tr>\n",
       "    <tr>\n",
       "      <th>48</th>\n",
       "      <td>Frontier Architecture</td>\n",
       "      <td>retail</td>\n",
       "      <td>27605</td>\n",
       "      <td>Raleigh</td>\n",
       "      <td>NC</td>\n",
       "      <td>OC5697</td>\n",
       "      <td>1168464</td>\n",
       "    </tr>\n",
       "    <tr>\n",
       "      <th>49</th>\n",
       "      <td>Vision People Solutions</td>\n",
       "      <td>retail</td>\n",
       "      <td>24557</td>\n",
       "      <td>Gretna</td>\n",
       "      <td>VA</td>\n",
       "      <td>WL5283</td>\n",
       "      <td>1299450</td>\n",
       "    </tr>\n",
       "  </tbody>\n",
       "</table>\n",
       "</div>"
      ],
      "text/plain": [
       "               company_name   channel zip_code             city state  \\\n",
       "45      Omega Research Data   partner    32209     Jacksonville    FL   \n",
       "46      Solutions Universal  reseller    66212  Shawnee Mission    KS   \n",
       "47   Bell Frontier Resource    retail    95172         San Jose    CA   \n",
       "48    Frontier Architecture    retail    27605          Raleigh    NC   \n",
       "49  Vision People Solutions    retail    24557           Gretna    VA   \n",
       "\n",
       "   account_num  total_sales  \n",
       "45      KX0489      3185196  \n",
       "46      SA4443      6796068  \n",
       "47      LA6029      1719822  \n",
       "48      OC5697      1168464  \n",
       "49      WL5283      1299450  "
      ]
     },
     "execution_count": 10,
     "metadata": {},
     "output_type": "execute_result"
    }
   ],
   "source": [
    "df.tail()"
   ]
  },
  {
   "cell_type": "code",
   "execution_count": 11,
   "metadata": {},
   "outputs": [
    {
     "data": {
      "text/html": [
       "<div>\n",
       "<style scoped>\n",
       "    .dataframe tbody tr th:only-of-type {\n",
       "        vertical-align: middle;\n",
       "    }\n",
       "\n",
       "    .dataframe tbody tr th {\n",
       "        vertical-align: top;\n",
       "    }\n",
       "\n",
       "    .dataframe thead th {\n",
       "        text-align: right;\n",
       "    }\n",
       "</style>\n",
       "<table border=\"1\" class=\"dataframe\">\n",
       "  <thead>\n",
       "    <tr style=\"text-align: right;\">\n",
       "      <th></th>\n",
       "      <th>total_sales</th>\n",
       "    </tr>\n",
       "  </thead>\n",
       "  <tbody>\n",
       "    <tr>\n",
       "      <th>count</th>\n",
       "      <td>5.000000e+01</td>\n",
       "    </tr>\n",
       "    <tr>\n",
       "      <th>mean</th>\n",
       "      <td>2.529873e+06</td>\n",
       "    </tr>\n",
       "    <tr>\n",
       "      <th>std</th>\n",
       "      <td>2.482702e+06</td>\n",
       "    </tr>\n",
       "    <tr>\n",
       "      <th>min</th>\n",
       "      <td>7.462160e+05</td>\n",
       "    </tr>\n",
       "    <tr>\n",
       "      <th>25%</th>\n",
       "      <td>1.115702e+06</td>\n",
       "    </tr>\n",
       "    <tr>\n",
       "      <th>50%</th>\n",
       "      <td>1.328859e+06</td>\n",
       "    </tr>\n",
       "    <tr>\n",
       "      <th>75%</th>\n",
       "      <td>1.705738e+06</td>\n",
       "    </tr>\n",
       "    <tr>\n",
       "      <th>max</th>\n",
       "      <td>9.121596e+06</td>\n",
       "    </tr>\n",
       "  </tbody>\n",
       "</table>\n",
       "</div>"
      ],
      "text/plain": [
       "        total_sales\n",
       "count  5.000000e+01\n",
       "mean   2.529873e+06\n",
       "std    2.482702e+06\n",
       "min    7.462160e+05\n",
       "25%    1.115702e+06\n",
       "50%    1.328859e+06\n",
       "75%    1.705738e+06\n",
       "max    9.121596e+06"
      ]
     },
     "execution_count": 11,
     "metadata": {},
     "output_type": "execute_result"
    }
   ],
   "source": [
    "df.describe()"
   ]
  },
  {
   "cell_type": "code",
   "execution_count": 12,
   "metadata": {},
   "outputs": [
    {
     "data": {
      "text/html": [
       "<div>\n",
       "<style scoped>\n",
       "    .dataframe tbody tr th:only-of-type {\n",
       "        vertical-align: middle;\n",
       "    }\n",
       "\n",
       "    .dataframe tbody tr th {\n",
       "        vertical-align: top;\n",
       "    }\n",
       "\n",
       "    .dataframe thead th {\n",
       "        text-align: right;\n",
       "    }\n",
       "</style>\n",
       "<table border=\"1\" class=\"dataframe\">\n",
       "  <thead>\n",
       "    <tr style=\"text-align: right;\">\n",
       "      <th></th>\n",
       "      <th>company_name</th>\n",
       "      <th>channel</th>\n",
       "      <th>zip_code</th>\n",
       "      <th>city</th>\n",
       "      <th>state</th>\n",
       "      <th>account_num</th>\n",
       "    </tr>\n",
       "  </thead>\n",
       "  <tbody>\n",
       "    <tr>\n",
       "      <th>count</th>\n",
       "      <td>50</td>\n",
       "      <td>50</td>\n",
       "      <td>50</td>\n",
       "      <td>50</td>\n",
       "      <td>50</td>\n",
       "      <td>50</td>\n",
       "    </tr>\n",
       "    <tr>\n",
       "      <th>unique</th>\n",
       "      <td>50</td>\n",
       "      <td>3</td>\n",
       "      <td>50</td>\n",
       "      <td>48</td>\n",
       "      <td>31</td>\n",
       "      <td>50</td>\n",
       "    </tr>\n",
       "    <tr>\n",
       "      <th>top</th>\n",
       "      <td>Technology Net Star</td>\n",
       "      <td>retail</td>\n",
       "      <td>22910</td>\n",
       "      <td>Washington</td>\n",
       "      <td>VA</td>\n",
       "      <td>GU6442</td>\n",
       "    </tr>\n",
       "    <tr>\n",
       "      <th>freq</th>\n",
       "      <td>1</td>\n",
       "      <td>38</td>\n",
       "      <td>1</td>\n",
       "      <td>2</td>\n",
       "      <td>4</td>\n",
       "      <td>1</td>\n",
       "    </tr>\n",
       "  </tbody>\n",
       "</table>\n",
       "</div>"
      ],
      "text/plain": [
       "               company_name channel zip_code        city state account_num\n",
       "count                    50      50       50          50    50          50\n",
       "unique                   50       3       50          48    31          50\n",
       "top     Technology Net Star  retail    22910  Washington    VA      GU6442\n",
       "freq                      1      38        1           2     4           1"
      ]
     },
     "execution_count": 12,
     "metadata": {},
     "output_type": "execute_result"
    }
   ],
   "source": [
    "df.describe(include='object')"
   ]
  },
  {
   "cell_type": "code",
   "execution_count": 13,
   "metadata": {},
   "outputs": [],
   "source": [
    "last_year_sales = df['total_sales'].sum()"
   ]
  },
  {
   "cell_type": "code",
   "execution_count": 14,
   "metadata": {},
   "outputs": [
    {
     "data": {
      "text/plain": [
       "126493662"
      ]
     },
     "execution_count": 14,
     "metadata": {},
     "output_type": "execute_result"
    }
   ],
   "source": [
    "last_year_sales"
   ]
  },
  {
   "cell_type": "code",
   "execution_count": 15,
   "metadata": {},
   "outputs": [
    {
     "name": "stdout",
     "output_type": "stream",
     "text": [
      "126,493,662\n"
     ]
    }
   ],
   "source": [
    "print(f'{last_year_sales:,.0f}')"
   ]
  },
  {
   "cell_type": "code",
   "execution_count": 19,
   "metadata": {},
   "outputs": [
    {
     "name": "stdout",
     "output_type": "stream",
     "text": [
      "0.79%\n"
     ]
    }
   ],
   "source": [
    "commission_target = 1_000_000\n",
    "effective_rate = commission_target / last_year_sales\n",
    "print(f'{effective_rate:,.2%}')"
   ]
  },
  {
   "cell_type": "code",
   "execution_count": 20,
   "metadata": {},
   "outputs": [],
   "source": [
    "df['commission'] = effective_rate * df['total_sales']"
   ]
  },
  {
   "cell_type": "code",
   "execution_count": 21,
   "metadata": {},
   "outputs": [
    {
     "data": {
      "text/html": [
       "<div>\n",
       "<style scoped>\n",
       "    .dataframe tbody tr th:only-of-type {\n",
       "        vertical-align: middle;\n",
       "    }\n",
       "\n",
       "    .dataframe tbody tr th {\n",
       "        vertical-align: top;\n",
       "    }\n",
       "\n",
       "    .dataframe thead th {\n",
       "        text-align: right;\n",
       "    }\n",
       "</style>\n",
       "<table border=\"1\" class=\"dataframe\">\n",
       "  <thead>\n",
       "    <tr style=\"text-align: right;\">\n",
       "      <th></th>\n",
       "      <th>company_name</th>\n",
       "      <th>channel</th>\n",
       "      <th>zip_code</th>\n",
       "      <th>city</th>\n",
       "      <th>state</th>\n",
       "      <th>account_num</th>\n",
       "      <th>total_sales</th>\n",
       "      <th>commission</th>\n",
       "    </tr>\n",
       "  </thead>\n",
       "  <tbody>\n",
       "    <tr>\n",
       "      <th>0</th>\n",
       "      <td>Universal Technology Vision</td>\n",
       "      <td>retail</td>\n",
       "      <td>22910</td>\n",
       "      <td>Charlottesville</td>\n",
       "      <td>VA</td>\n",
       "      <td>AH5590</td>\n",
       "      <td>1257912</td>\n",
       "      <td>9944.466625</td>\n",
       "    </tr>\n",
       "    <tr>\n",
       "      <th>1</th>\n",
       "      <td>East Design Hill</td>\n",
       "      <td>retail</td>\n",
       "      <td>66546</td>\n",
       "      <td>Wakarusa</td>\n",
       "      <td>KS</td>\n",
       "      <td>OL0453</td>\n",
       "      <td>1158564</td>\n",
       "      <td>9159.067590</td>\n",
       "    </tr>\n",
       "    <tr>\n",
       "      <th>2</th>\n",
       "      <td>Studio Pacific Galaxy</td>\n",
       "      <td>retail</td>\n",
       "      <td>79698</td>\n",
       "      <td>Abilene</td>\n",
       "      <td>TX</td>\n",
       "      <td>YR6861</td>\n",
       "      <td>1663488</td>\n",
       "      <td>13150.761656</td>\n",
       "    </tr>\n",
       "    <tr>\n",
       "      <th>3</th>\n",
       "      <td>Galaxy Building</td>\n",
       "      <td>retail</td>\n",
       "      <td>85275</td>\n",
       "      <td>Mesa</td>\n",
       "      <td>AZ</td>\n",
       "      <td>AS3124</td>\n",
       "      <td>1193560</td>\n",
       "      <td>9435.729673</td>\n",
       "    </tr>\n",
       "    <tr>\n",
       "      <th>4</th>\n",
       "      <td>Resource Innovation Future</td>\n",
       "      <td>retail</td>\n",
       "      <td>97013</td>\n",
       "      <td>Canby</td>\n",
       "      <td>OR</td>\n",
       "      <td>DK1362</td>\n",
       "      <td>958040</td>\n",
       "      <td>7573.818204</td>\n",
       "    </tr>\n",
       "  </tbody>\n",
       "</table>\n",
       "</div>"
      ],
      "text/plain": [
       "                  company_name channel zip_code             city state  \\\n",
       "0  Universal Technology Vision  retail    22910  Charlottesville    VA   \n",
       "1             East Design Hill  retail    66546         Wakarusa    KS   \n",
       "2        Studio Pacific Galaxy  retail    79698          Abilene    TX   \n",
       "3              Galaxy Building  retail    85275             Mesa    AZ   \n",
       "4   Resource Innovation Future  retail    97013            Canby    OR   \n",
       "\n",
       "  account_num  total_sales    commission  \n",
       "0      AH5590      1257912   9944.466625  \n",
       "1      OL0453      1158564   9159.067590  \n",
       "2      YR6861      1663488  13150.761656  \n",
       "3      AS3124      1193560   9435.729673  \n",
       "4      DK1362       958040   7573.818204  "
      ]
     },
     "execution_count": 21,
     "metadata": {},
     "output_type": "execute_result"
    }
   ],
   "source": [
    "df.head()"
   ]
  },
  {
   "cell_type": "code",
   "execution_count": 22,
   "metadata": {},
   "outputs": [],
   "source": [
    "df['commission'] = df['commission'].round()"
   ]
  },
  {
   "cell_type": "code",
   "execution_count": 23,
   "metadata": {},
   "outputs": [
    {
     "data": {
      "text/html": [
       "<div>\n",
       "<style scoped>\n",
       "    .dataframe tbody tr th:only-of-type {\n",
       "        vertical-align: middle;\n",
       "    }\n",
       "\n",
       "    .dataframe tbody tr th {\n",
       "        vertical-align: top;\n",
       "    }\n",
       "\n",
       "    .dataframe thead th {\n",
       "        text-align: right;\n",
       "    }\n",
       "</style>\n",
       "<table border=\"1\" class=\"dataframe\">\n",
       "  <thead>\n",
       "    <tr style=\"text-align: right;\">\n",
       "      <th></th>\n",
       "      <th>company_name</th>\n",
       "      <th>channel</th>\n",
       "      <th>zip_code</th>\n",
       "      <th>city</th>\n",
       "      <th>state</th>\n",
       "      <th>account_num</th>\n",
       "      <th>total_sales</th>\n",
       "      <th>commission</th>\n",
       "    </tr>\n",
       "  </thead>\n",
       "  <tbody>\n",
       "    <tr>\n",
       "      <th>0</th>\n",
       "      <td>Universal Technology Vision</td>\n",
       "      <td>retail</td>\n",
       "      <td>22910</td>\n",
       "      <td>Charlottesville</td>\n",
       "      <td>VA</td>\n",
       "      <td>AH5590</td>\n",
       "      <td>1257912</td>\n",
       "      <td>9944.0</td>\n",
       "    </tr>\n",
       "    <tr>\n",
       "      <th>1</th>\n",
       "      <td>East Design Hill</td>\n",
       "      <td>retail</td>\n",
       "      <td>66546</td>\n",
       "      <td>Wakarusa</td>\n",
       "      <td>KS</td>\n",
       "      <td>OL0453</td>\n",
       "      <td>1158564</td>\n",
       "      <td>9159.0</td>\n",
       "    </tr>\n",
       "    <tr>\n",
       "      <th>2</th>\n",
       "      <td>Studio Pacific Galaxy</td>\n",
       "      <td>retail</td>\n",
       "      <td>79698</td>\n",
       "      <td>Abilene</td>\n",
       "      <td>TX</td>\n",
       "      <td>YR6861</td>\n",
       "      <td>1663488</td>\n",
       "      <td>13151.0</td>\n",
       "    </tr>\n",
       "    <tr>\n",
       "      <th>3</th>\n",
       "      <td>Galaxy Building</td>\n",
       "      <td>retail</td>\n",
       "      <td>85275</td>\n",
       "      <td>Mesa</td>\n",
       "      <td>AZ</td>\n",
       "      <td>AS3124</td>\n",
       "      <td>1193560</td>\n",
       "      <td>9436.0</td>\n",
       "    </tr>\n",
       "    <tr>\n",
       "      <th>4</th>\n",
       "      <td>Resource Innovation Future</td>\n",
       "      <td>retail</td>\n",
       "      <td>97013</td>\n",
       "      <td>Canby</td>\n",
       "      <td>OR</td>\n",
       "      <td>DK1362</td>\n",
       "      <td>958040</td>\n",
       "      <td>7574.0</td>\n",
       "    </tr>\n",
       "  </tbody>\n",
       "</table>\n",
       "</div>"
      ],
      "text/plain": [
       "                  company_name channel zip_code             city state  \\\n",
       "0  Universal Technology Vision  retail    22910  Charlottesville    VA   \n",
       "1             East Design Hill  retail    66546         Wakarusa    KS   \n",
       "2        Studio Pacific Galaxy  retail    79698          Abilene    TX   \n",
       "3              Galaxy Building  retail    85275             Mesa    AZ   \n",
       "4   Resource Innovation Future  retail    97013            Canby    OR   \n",
       "\n",
       "  account_num  total_sales  commission  \n",
       "0      AH5590      1257912      9944.0  \n",
       "1      OL0453      1158564      9159.0  \n",
       "2      YR6861      1663488     13151.0  \n",
       "3      AS3124      1193560      9436.0  \n",
       "4      DK1362       958040      7574.0  "
      ]
     },
     "execution_count": 23,
     "metadata": {},
     "output_type": "execute_result"
    }
   ],
   "source": [
    "df.head()"
   ]
  },
  {
   "cell_type": "code",
   "execution_count": 24,
   "metadata": {},
   "outputs": [
    {
     "data": {
      "text/plain": [
       "1000004.0"
      ]
     },
     "execution_count": 24,
     "metadata": {},
     "output_type": "execute_result"
    }
   ],
   "source": [
    "df['commission'].sum()"
   ]
  },
  {
   "cell_type": "code",
   "execution_count": 25,
   "metadata": {},
   "outputs": [
    {
     "data": {
      "text/plain": [
       "20000.08"
      ]
     },
     "execution_count": 25,
     "metadata": {},
     "output_type": "execute_result"
    }
   ],
   "source": [
    "df['commission'].mean()"
   ]
  },
  {
   "cell_type": "code",
   "execution_count": 26,
   "metadata": {},
   "outputs": [
    {
     "data": {
      "text/plain": [
       "count       50.0\n",
       "mean     20000.0\n",
       "std      19627.0\n",
       "min       5899.0\n",
       "25%       8820.0\n",
       "50%      10506.0\n",
       "75%      13485.0\n",
       "max      72111.0\n",
       "Name: commission, dtype: float64"
      ]
     },
     "execution_count": 26,
     "metadata": {},
     "output_type": "execute_result"
    }
   ],
   "source": [
    "df['commission'].describe().round()"
   ]
  },
  {
   "cell_type": "code",
   "execution_count": null,
   "metadata": {},
   "outputs": [],
   "source": []
  }
 ],
 "metadata": {
  "kernelspec": {
   "display_name": "Python 3",
   "language": "python",
   "name": "python3"
  },
  "language_info": {
   "codemirror_mode": {
    "name": "ipython",
    "version": 3
   },
   "file_extension": ".py",
   "mimetype": "text/x-python",
   "name": "python",
   "nbconvert_exporter": "python",
   "pygments_lexer": "ipython3",
   "version": "3.8.3"
  }
 },
 "nbformat": 4,
 "nbformat_minor": 4
}
