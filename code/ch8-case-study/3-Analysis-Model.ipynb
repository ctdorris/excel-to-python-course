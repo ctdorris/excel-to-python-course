{
 "cells": [
  {
   "cell_type": "code",
   "execution_count": 1,
   "metadata": {},
   "outputs": [],
   "source": [
    "import pandas as pd\n",
    "import numpy as np\n",
    "from pathlib import Path"
   ]
  },
  {
   "cell_type": "code",
   "execution_count": 2,
   "metadata": {},
   "outputs": [],
   "source": [
    "customer_rep = Path.cwd() / 'data' / 'processed' / 'customer_rep_data.xlsx'\n",
    "invoice_data = Path.cwd() / 'data' / 'raw' / 'invoice_data.xlsx'\n",
    "report_file = Path.cwd() / 'reports' / 'commission_report.xlsx'"
   ]
  },
  {
   "cell_type": "code",
   "execution_count": 3,
   "metadata": {},
   "outputs": [],
   "source": [
    "raw_df = pd.read_excel(customer_rep, usecols='A,B,F,E,H,I,J')"
   ]
  },
  {
   "cell_type": "code",
   "execution_count": null,
   "metadata": {},
   "outputs": [],
   "source": [
    "raw_df.head()"
   ]
  },
  {
   "cell_type": "code",
   "execution_count": null,
   "metadata": {},
   "outputs": [],
   "source": [
    "# Just get the columns we need\n",
    "customers = raw_df.copy()"
   ]
  },
  {
   "cell_type": "code",
   "execution_count": null,
   "metadata": {},
   "outputs": [],
   "source": [
    "customers.head()"
   ]
  },
  {
   "cell_type": "code",
   "execution_count": null,
   "metadata": {},
   "outputs": [],
   "source": [
    "customers.shape"
   ]
  },
  {
   "cell_type": "code",
   "execution_count": null,
   "metadata": {},
   "outputs": [],
   "source": [
    "invoice = pd.read_excel(invoice_data)"
   ]
  },
  {
   "cell_type": "code",
   "execution_count": null,
   "metadata": {},
   "outputs": [],
   "source": [
    "invoice.head()"
   ]
  },
  {
   "cell_type": "code",
   "execution_count": null,
   "metadata": {},
   "outputs": [],
   "source": [
    "invoice.shape"
   ]
  },
  {
   "cell_type": "code",
   "execution_count": null,
   "metadata": {},
   "outputs": [],
   "source": [
    "invoice['invoice_total'].sum()"
   ]
  },
  {
   "cell_type": "code",
   "execution_count": null,
   "metadata": {},
   "outputs": [],
   "source": [
    "# Merge in Customer name, channel and region\n",
    "# Different column names for left and right\n",
    "sales_detail = pd.merge(invoice, customers, left_on='cust_num', right_on='account_num')"
   ]
  },
  {
   "cell_type": "code",
   "execution_count": null,
   "metadata": {},
   "outputs": [],
   "source": [
    "sales_detail.shape"
   ]
  },
  {
   "cell_type": "code",
   "execution_count": null,
   "metadata": {},
   "outputs": [],
   "source": [
    "sales_detail.head()"
   ]
  },
  {
   "cell_type": "code",
   "execution_count": null,
   "metadata": {},
   "outputs": [],
   "source": [
    "sales_detail['invoice_total'].sum()"
   ]
  },
  {
   "cell_type": "code",
   "execution_count": null,
   "metadata": {},
   "outputs": [],
   "source": [
    "commission_rate = 0.0079"
   ]
  },
  {
   "cell_type": "code",
   "execution_count": null,
   "metadata": {},
   "outputs": [],
   "source": [
    "sales_detail['commission'] = commission_rate * sales_detail['invoice_total']"
   ]
  },
  {
   "cell_type": "code",
   "execution_count": null,
   "metadata": {},
   "outputs": [],
   "source": [
    "sales_detail['commission'].sum()"
   ]
  },
  {
   "cell_type": "code",
   "execution_count": null,
   "metadata": {},
   "outputs": [],
   "source": [
    "sales_detail.groupby(['sku']).agg({'commission': 'sum'}).sort_values(by=['commission'], ascending=False)"
   ]
  },
  {
   "cell_type": "code",
   "execution_count": null,
   "metadata": {},
   "outputs": [],
   "source": [
    "sales_detail.groupby(['last_name']).agg({'commission': 'sum'})"
   ]
  },
  {
   "cell_type": "code",
   "execution_count": null,
   "metadata": {},
   "outputs": [],
   "source": [
    "sales_detail.groupby(['last_name', 'channel']).agg({'commission': 'sum'})"
   ]
  },
  {
   "cell_type": "code",
   "execution_count": null,
   "metadata": {},
   "outputs": [],
   "source": [
    "pd.pivot_table(data=sales_detail, index=['last_name'], columns=['channel'], values='commission', aggfunc='sum').round(0)"
   ]
  },
  {
   "cell_type": "code",
   "execution_count": null,
   "metadata": {},
   "outputs": [],
   "source": [
    "# What happens if we adjust the partner & reseller commision rates down?\n",
    "# Sales team does not do as much work for these channels\n",
    "partner_rate = 0.001\n",
    "reseller_rate = 0.0026"
   ]
  },
  {
   "cell_type": "code",
   "execution_count": null,
   "metadata": {},
   "outputs": [],
   "source": [
    "# Add the commission rate as a column with default of the base\n",
    "sales_detail['commission_rate'] = commission_rate"
   ]
  },
  {
   "cell_type": "code",
   "execution_count": null,
   "metadata": {},
   "outputs": [],
   "source": [
    "partners = (sales_detail['channel'] == 'partner')\n",
    "resellers = (sales_detail['channel'] == 'reseller')\n",
    "retail = (sales_detail['channel'] == 'retail')"
   ]
  },
  {
   "cell_type": "code",
   "execution_count": null,
   "metadata": {},
   "outputs": [],
   "source": [
    "partners"
   ]
  },
  {
   "cell_type": "code",
   "execution_count": null,
   "metadata": {},
   "outputs": [],
   "source": [
    "sales_detail.loc[partners, 'commission_rate'] = partner_rate\n",
    "sales_detail.loc[resellers, 'commission_rate'] = reseller_rate"
   ]
  },
  {
   "cell_type": "code",
   "execution_count": null,
   "metadata": {},
   "outputs": [],
   "source": [
    "sales_detail.head()"
   ]
  },
  {
   "cell_type": "code",
   "execution_count": null,
   "metadata": {},
   "outputs": [],
   "source": [
    "sales_detail['commission_rate'].value_counts()"
   ]
  },
  {
   "cell_type": "code",
   "execution_count": null,
   "metadata": {},
   "outputs": [],
   "source": [
    "# Unlike excel - you need to tell it to calculate\n",
    "sales_detail['commission'] = sales_detail['commission_rate'] * sales_detail['invoice_total']"
   ]
  },
  {
   "cell_type": "code",
   "execution_count": null,
   "metadata": {},
   "outputs": [],
   "source": [
    "sales_detail.head()"
   ]
  },
  {
   "cell_type": "code",
   "execution_count": null,
   "metadata": {},
   "outputs": [],
   "source": [
    "sales_detail['commission'].sum()"
   ]
  },
  {
   "cell_type": "code",
   "execution_count": null,
   "metadata": {},
   "outputs": [],
   "source": [
    "pd.pivot_table(data=sales_detail,\n",
    "               index=['last_name'],\n",
    "               columns=['channel'],\n",
    "               values='commission',\n",
    "               margins=True,\n",
    "               aggfunc='sum').round(0)"
   ]
  },
  {
   "cell_type": "code",
   "execution_count": null,
   "metadata": {},
   "outputs": [],
   "source": [
    "# Shifted things around. Maybe bump up to a different rate?\n",
    "# Try a loop\n",
    "retail_rates = [0.01, 0.012, 0.014, 0.016, 0.017]\n",
    "for rate in retail_rates:\n",
    "    sales_detail.loc[retail, 'commission_rate'] = rate\n",
    "    sales_detail['commission'] = sales_detail['commission_rate'] * sales_detail['invoice_total']\n",
    "    print(f\"Total Commmissions {sales_detail['commission'].sum():,.0f} retail rate= {rate}\")\n",
    "    "
   ]
  },
  {
   "cell_type": "code",
   "execution_count": null,
   "metadata": {},
   "outputs": [],
   "source": [
    "pd.pivot_table(data=sales_detail,\n",
    "               index=['last_name'],\n",
    "               columns=['channel'],\n",
    "               values='commission',\n",
    "               margins=True,\n",
    "               aggfunc='sum').round(0)"
   ]
  },
  {
   "cell_type": "code",
   "execution_count": null,
   "metadata": {},
   "outputs": [],
   "source": [
    "sales_detail.groupby(['last_name', 'state']).agg({'commission': 'sum'})"
   ]
  },
  {
   "cell_type": "code",
   "execution_count": null,
   "metadata": {},
   "outputs": [],
   "source": [
    "# Move VA and WV to the NE region\n",
    "# Move Nebraska to the W"
   ]
  },
  {
   "cell_type": "code",
   "execution_count": null,
   "metadata": {},
   "outputs": [],
   "source": [
    "VA_WV = sales_detail['state'].isin(['VA', 'WV'])\n",
    "NEB = sales_detail['state'].isin(['NE'])\n",
    "sales_detail.loc[VA_WV, ['Region', 'last_name', 'first_name']] = ('NORTHEAST', 'Muniz', 'Shannon')\n",
    "sales_detail.loc[NEB, ['Region', 'last_name', 'first_name']] = ('WEST', 'Malcolm', 'Leonard')"
   ]
  },
  {
   "cell_type": "code",
   "execution_count": null,
   "metadata": {},
   "outputs": [],
   "source": [
    "commission_by_channel = pd.pivot_table(data=sales_detail,\n",
    "                                       index=['last_name'],\n",
    "                                       columns=['channel'],\n",
    "                                       values='commission',\n",
    "                                       margins=True,\n",
    "                                       fill_value=0,\n",
    "                                       aggfunc='sum').round(0)"
   ]
  },
  {
   "cell_type": "code",
   "execution_count": null,
   "metadata": {},
   "outputs": [],
   "source": [
    "commission_by_channel"
   ]
  },
  {
   "cell_type": "code",
   "execution_count": null,
   "metadata": {},
   "outputs": [],
   "source": [
    "commission_rates = sales_detail.groupby(['channel']).agg({'commission_rate': 'mean'})\n",
    "commission_rates"
   ]
  },
  {
   "cell_type": "code",
   "execution_count": null,
   "metadata": {},
   "outputs": [],
   "source": [
    "new_alignments = sales_detail.groupby(['last_name', 'state']).agg({'account_num': 'size', 'invoice_total': 'sum'})\n",
    "new_alignments"
   ]
  },
  {
   "cell_type": "code",
   "execution_count": null,
   "metadata": {},
   "outputs": [],
   "source": [
    "# Write out the new rates, expected commissions and alignment"
   ]
  },
  {
   "cell_type": "code",
   "execution_count": null,
   "metadata": {},
   "outputs": [],
   "source": [
    "output = pd.ExcelWriter(report_file)"
   ]
  },
  {
   "cell_type": "code",
   "execution_count": null,
   "metadata": {},
   "outputs": [],
   "source": [
    "# Format the numbers\n",
    "commission_by_channel.to_excel(output)\n",
    "commission_rates.to_excel(output, startcol=6)\n",
    "new_alignments.to_excel(output, startcol=9)"
   ]
  },
  {
   "cell_type": "code",
   "execution_count": null,
   "metadata": {},
   "outputs": [],
   "source": [
    "output.save()"
   ]
  },
  {
   "cell_type": "code",
   "execution_count": null,
   "metadata": {},
   "outputs": [],
   "source": []
  }
 ],
 "metadata": {
  "kernelspec": {
   "display_name": "Python 3",
   "language": "python",
   "name": "python3"
  },
  "language_info": {
   "codemirror_mode": {
    "name": "ipython",
    "version": 3
   },
   "file_extension": ".py",
   "mimetype": "text/x-python",
   "name": "python",
   "nbconvert_exporter": "python",
   "pygments_lexer": "ipython3",
   "version": "3.8.3"
  }
 },
 "nbformat": 4,
 "nbformat_minor": 4
}
